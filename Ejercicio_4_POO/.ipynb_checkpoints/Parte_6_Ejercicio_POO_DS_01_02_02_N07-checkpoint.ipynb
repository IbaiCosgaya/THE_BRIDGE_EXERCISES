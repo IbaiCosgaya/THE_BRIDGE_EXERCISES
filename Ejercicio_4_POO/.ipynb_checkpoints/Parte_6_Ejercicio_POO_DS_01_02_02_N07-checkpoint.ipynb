{
 "cells": [
  {
   "cell_type": "markdown",
   "metadata": {
    "id": "liorA-1ZSU4y"
   },
   "source": [
    "# Ejercicios Clases y Objetos"
   ]
  },
  {
   "cell_type": "markdown",
   "metadata": {
    "id": "5xXUz5l9SU4z"
   },
   "source": [
    "## Ejercicio 1\n",
    "Somos una empresa que tiene varias tiendas de electrodomesticos. Necesitamos un programa para manejar las tiendas, ver las ventas que han tenido, cuántos empleados hay, etc... Para ello vamos a modelizar la tienda en una clase, que tendrá las siguientes características:\n",
    "* Nombre clase: \"Tienda\"\n",
    "* Atributos comunes:\n",
    "    * Tipo: \"Electrodomésticos\"\n",
    "    * Abierta: True\n",
    "* Atributos propios de cada tienda:\n",
    "    * Nombre - String\n",
    "    * Dirección - String\n",
    "    * Número de empleados - int\n",
    "    * Ventas ultimos 3 meses - Lista de 3 numeros\n",
    "* Método para calcular las ventas de todos los meses, que devuelva un numero con todas las ventas.\n",
    "* Método que calcula la media de ventas de los ultimos meses, por empleado\n",
    "* Método que devuelve en un string el nombre de la tienda, junto con su dirección.\n",
    "* Método que obtiene las ventas del último mes.\n",
    "* Método para dar una proyección de las ventas en caso de haber invertido X dinero en marketing en esa tienda. Siendo X el parámetro de entrada. Si X es menor de 1000, las ventas de los ultimos 3 meses hubiesen sido de (1.2 x ventas), si es mayor o igual de 1000, las ventas hubiesen sido de (1.5 x venta). El método reescribe el atributo de ventas en los últimos 3 meses, y además devuelve las ventas con el aumento.\n",
    "\n",
    "Se pide:\n",
    "1. Implementar la clase \"Tienda\"\n",
    "2. Crear tres tiendas con datos inventados\n",
    "3. Comprueba en al menos una de ellas, todo lo implementado en la clase tienda (sus atributos, media de ventas, ventas/empleado...)\n",
    "3. Calcular las ventas del último mes de todas las tiendas. Para ello usa el bucle `for`\n",
    "4. Imprime por pantalla los nombres de las tiendas cuya dirección lleve el string \"Avenida\"\n",
    "5. Seguro que ya has hecho este apartado... Documenta la clase :)"
   ]
  },
  {
   "cell_type": "code",
   "execution_count": 1,
   "metadata": {
    "id": "5cLQcLxfSU4z"
   },
   "outputs": [
    {
     "name": "stdout",
     "output_type": "stream",
     "text": [
      "El total de ventas de Mediamarkt en los últimos meses ha sido de 45000.0 € \n",
      "\n",
      "La media de ventas por empleado de Mediamarkt de los últimos meses ha sido de 450.0 € \n",
      "\n",
      "Mediamarkt: Ronda de Azkue \n",
      "\n",
      "Las ventas de Mediamarkt del último mes han sido de 20000 € \n",
      "\n",
      "Con una inversion de 100 €, el total de ventas de Mediamarkt hubiera sido de 54000.0 \n",
      "\n",
      "La Casa del Electricista \n",
      "\n",
      "En el último mes, las tiendas han facturado 28390 €\n"
     ]
    }
   ],
   "source": [
    "class Tienda:\n",
    "\n",
    "    tipo = \"Electrodomésticos\" #Atributos comunes\n",
    "    abierta = True\n",
    "\n",
    "    def __init__(self, nombre, direccion, empleados, mes1, mes2, mes3): #Atributos de cada tienda \n",
    "        self.nombre = nombre\n",
    "        self.direccion = direccion\n",
    "        self.empleados = empleados\n",
    "        self.ventas_3_meses = [mes1, mes2, mes3]\n",
    "\n",
    "    def calcular_ventas(self):\n",
    "        return f\"El total de ventas de {self.nombre} en los últimos meses ha sido de {float(sum(self.ventas_3_meses))} € \\n\" #\\n para añadir espacios\n",
    "\n",
    "    def media_ventas(self):\n",
    "        return f\"La media de ventas por empleado de {self.nombre} de los últimos meses ha sido de {sum(self.ventas_3_meses) / self.empleados} € \\n\"\n",
    "\n",
    "    def info_tienda(self):\n",
    "        return f\"{self.nombre}: {self.direccion} \\n\"\n",
    "\n",
    "    def ventas_ultimo_mes(self):\n",
    "        return f\"Las ventas de {self.nombre} del último mes han sido de {self.ventas_3_meses[2]} € \\n\"\n",
    "\n",
    "    def proyeccion_ventas(self, inversion):\n",
    "        if inversion < 1000:\n",
    "            return f\"Con una inversion de {inversion} €, el total de ventas de {self.nombre} hubiera sido de {float(sum(self.ventas_3_meses)*1.2)} \\n\"\n",
    "        elif inversion >= 1000:\n",
    "            return f\"Con una inversion de {inversion} €, el total de ventas de {self.nombre} hubiera sido de {float(sum(self.ventas_3_meses) * 1.5)} \\n\"\n",
    "\n",
    "mediamarkt = Tienda(\"Mediamarkt\", \"Ronda de Azkue\", 100, 10000,15000, 20000) #creacion de objetos\n",
    "casa_del_electricista = Tienda(\"La Casa del Electricista\", \"Avenida de la Libertad\", 4, 1578, 4354, 2381)\n",
    "conforama = Tienda(\"Conforama\", \"Paseo de Ariz\", 20, 2535, 5678, 6009)\n",
    "\n",
    "print(mediamarkt.calcular_ventas()) #comprobando sus metodos\n",
    "print(mediamarkt.media_ventas())\n",
    "print(mediamarkt.info_tienda())\n",
    "print(mediamarkt.ventas_ultimo_mes())\n",
    "print(mediamarkt.proyeccion_ventas(100))\n",
    "\n",
    "tiendas =  [mediamarkt, casa_del_electricista, conforama]\n",
    "total = 0\n",
    "\n",
    "for tienda in tiendas:\n",
    "    total += tienda.ventas_3_meses[2]\n",
    "    if \"Avenida\" in tienda.direccion:\n",
    "        print(f\"{tienda.nombre} \\n\")\n",
    "\n",
    "print(f\"En el último mes, las tiendas han facturado {total} €\")"
   ]
  },
  {
   "cell_type": "markdown",
   "metadata": {
    "id": "WEBq7EpsSU40"
   },
   "source": [
    "## Ejercicio 2\n",
    "En este ejercicio vamos a implementar una clase *Perro* en Python. La clase tiene las siguientes características:\n",
    "* Cosas que sabemos seguro que tiene un perro\n",
    "    * Tiene 4 patas\n",
    "    * 2 orejas\n",
    "    * 2 ojos\n",
    "    * Una velocidad de 0. Por defecto, el perro está parado\n",
    "* Cuando se inicialice:\n",
    "    * El perro será de una determinada raza\n",
    "    * Por defecto tendrá pelo \"Marrón\", a no ser que se diga lo contrario.\n",
    "    * Por defecto no tendrá dueño, a no ser que se diga lo contrario.\n",
    "    \n",
    "* Dispondrá también de un método llamado andar, que tiene un argumento de entrada (aumento_velocidad). Este valor se le sumará a la velocidad que ya llevaba el perro.\n",
    "* Necesita otro método (parar), donde pondremos la velocidad a 0.\n",
    "* Otro método llamado \"ladrar\", que tendrá un argumento de entrada, y la salida será el siguiente string: \"GUAU!\" + el argumento de entrada.\n",
    "\n",
    "\n",
    "Se pide:\n",
    "* Implementa la clase *Perro*\n",
    "* Crea un objeto de tipo *Perro*, sin dueño\n",
    "* Comprueba que están bien todos sus atributos\n",
    "* Prueba que ande, y comprueba su velocidad\n",
    "* Páralo\n",
    "* Documenta la clase *Perro*"
   ]
  },
  {
   "cell_type": "code",
   "execution_count": 2,
   "metadata": {
    "id": "DpEWvbwGSU40"
   },
   "outputs": [
    {
     "name": "stdout",
     "output_type": "stream",
     "text": [
      "Border Colie\n",
      "Marron\n",
      "None\n",
      "0\n",
      "3\n",
      "0\n",
      "GUAU! El perro ha cagado\n"
     ]
    }
   ],
   "source": [
    "class Perro:\n",
    "\n",
    "    def __init__(self, raza): #atributos\n",
    "        self.raza = raza\n",
    "        self.pelo = \"Marron\"\n",
    "        self.dueño = None\n",
    "        self.patas = 4\n",
    "        self.orejas = 2\n",
    "        self.ojos = 2\n",
    "        self.velocidad = 0\n",
    "\n",
    "    def andar(self, aumento_velocidad): #se le agrega un int a la velocidad de 0\n",
    "        self.velocidad += aumento_velocidad\n",
    "        return self.velocidad\n",
    "\n",
    "    def parar(self): #la velocidad es 0\n",
    "        self.velocidad = 0\n",
    "        return self.velocidad\n",
    "\n",
    "    def ladrar(self, orden):\n",
    "       return f\"GUAU! El perro ha {orden}\"\n",
    "\n",
    "perro_1 = Perro(\"Border Colie\")\n",
    "print(perro_1.raza)\n",
    "print(perro_1.pelo)\n",
    "print(perro_1.dueño)\n",
    "print(perro_1.velocidad)\n",
    "\n",
    "print(perro_1.andar(3))\n",
    "print(perro_1.parar())\n",
    "print(perro_1.ladrar(\"cagado\"))\n"
   ]
  },
  {
   "cell_type": "code",
   "execution_count": null,
   "metadata": {},
   "outputs": [],
   "source": []
  }
 ],
 "metadata": {
  "colab": {
   "provenance": []
  },
  "kernelspec": {
   "display_name": "Python 3 (ipykernel)",
   "language": "python",
   "name": "python3"
  },
  "language_info": {
   "codemirror_mode": {
    "name": "ipython",
    "version": 3
   },
   "file_extension": ".py",
   "mimetype": "text/x-python",
   "name": "python",
   "nbconvert_exporter": "python",
   "pygments_lexer": "ipython3",
   "version": "3.13.1"
  }
 },
 "nbformat": 4,
 "nbformat_minor": 4
}
