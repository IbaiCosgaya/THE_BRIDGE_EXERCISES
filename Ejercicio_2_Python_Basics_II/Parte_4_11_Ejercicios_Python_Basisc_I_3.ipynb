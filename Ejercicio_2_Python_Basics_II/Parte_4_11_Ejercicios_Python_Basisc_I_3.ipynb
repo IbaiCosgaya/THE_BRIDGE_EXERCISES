{
 "cells": [
  {
   "cell_type": "markdown",
   "metadata": {
    "id": "RNoV4Wwe1MtF"
   },
   "source": [
    "![imagen](./img/ejercicios.png)"
   ]
  },
  {
   "cell_type": "markdown",
   "metadata": {
    "id": "TPFxSBRk1MtF"
   },
   "source": [
    "## EJERCICIOS PYTHON BASICO 3:\n",
    "## Operaciones matemáticas, comparación y booleanas"
   ]
  },
  {
   "cell_type": "markdown",
   "metadata": {
    "id": "3o5griDe1MtG"
   },
   "source": [
    "Completa los siguiente ejercicios, la solución completa a los mismos se publicarán en el repo del curso a lo largo del sprint. En algunos ejercicios se muestra la solución final, para que puedas comprobar que lo has hecho bien, pero lo importante es el código que generes. ¡Vaaamos, a ello...!"
   ]
  },
  {
   "cell_type": "markdown",
   "metadata": {
    "id": "d6UFWDhG1MtH"
   },
   "source": [
    "![ejercicio.png](./img/ejercicio.png)\n",
    "\n",
    "\n",
    "## Ejercicio 1\n",
    "Tenemos las siguientes variables:\n",
    "\n",
    "```Python\n",
    "A = 4\n",
    "B = \"Text\"\n",
    "C = 4.1\n",
    "```\n",
    "\n",
    "Comprueba:\n",
    "1. Si A y B son equivalentes\n",
    "2. Si A y C NO son equivalentes\n",
    "3. Si A es mayor que C\n",
    "4. Si C es menor o igual que A\n",
    "5. Si B NO es equivalente a C"
   ]
  },
  {
   "cell_type": "code",
   "execution_count": 9,
   "metadata": {
    "id": "tID34uis1MtH",
    "outputId": "bff5a88e-1e04-4e3a-9903-4d7fd72a9301"
   },
   "outputs": [
    {
     "name": "stdout",
     "output_type": "stream",
     "text": [
      "False\n",
      "True\n",
      "False\n",
      "False\n",
      "True\n"
     ]
    }
   ],
   "source": [
    "A = 4\n",
    "B = \"Text\"\n",
    "C = 4.1\n",
    "\n",
    "print(A == B)\n",
    "print(A != C)\n",
    "print(A > C)\n",
    "print(C <= A)\n",
    "print(B != C)\n",
    "\n"
   ]
  },
  {
   "cell_type": "markdown",
   "metadata": {
    "id": "q_EK_2Sc1MtJ"
   },
   "source": [
    "![ejercicio.png](./img/ejercicio.png)\n",
    "\n",
    "## Ejercicio 2\n",
    "Crea un programa donde se recojan dos inputs del usuario, y el output del programa sea si esos inputs son iguales o no"
   ]
  },
  {
   "cell_type": "code",
   "execution_count": 14,
   "metadata": {
    "id": "_VxV5joy1MtJ"
   },
   "outputs": [
    {
     "name": "stdin",
     "output_type": "stream",
     "text": [
      "Escribe algo:  fre\n",
      "Escribe otra cosa:  fre\n"
     ]
    },
    {
     "name": "stdout",
     "output_type": "stream",
     "text": [
      "Los parametros concuerdan\n"
     ]
    }
   ],
   "source": [
    "var1 = input(\"Escribe algo: \")\n",
    "var2 = input(\"Escribe otra cosa: \")\n",
    "\n",
    "if var1 == var2:\n",
    "    print(\"Los parametros concuerdan\")\n",
    "else:\n",
    "    print(\"Los parametros no concuerdan\")"
   ]
  },
  {
   "cell_type": "markdown",
   "metadata": {
    "id": "E-FE-Vyw1MtK"
   },
   "source": [
    "![ejercicio.png](./img/ejercicio.png)\n",
    "\n",
    "## Ejercicio 3\n",
    "Mismo programa que en 2, pero en esta ocasión tienen que ser tres inputs y dos salidas. Una de las salidas que nos indique si todos son iguales, y la otra si al menos dos inputs sí que lo son"
   ]
  },
  {
   "cell_type": "code",
   "execution_count": null,
   "metadata": {
    "id": "Bfm_S6CW1MtK",
    "outputId": "041bfcbf-772f-42cb-83ed-36985f973a50"
   },
   "outputs": [
    {
     "name": "stdout",
     "output_type": "stream",
     "text": [
      "Todos son iguales: False\n",
      "Todos son iguales: False\n"
     ]
    }
   ],
   "source": [
    "var1 = input(\"Escribe algo: \")\n",
    "var2 = input(\"Escribe otra cosa: \")\n",
    "var3 = input(\"Escribe otra cosa más: \")\n",
    "\n",
    "if var1 == var2 and var1 == var3 and var2 == var3:\n",
    "    print(\"Todos son iguales:\", True)\n",
    "\n",
    "elif var1 == var2 or var2 == var3 or var1 == var3:\n",
    "    print(\"Alguno de ellos es igual:\", True)\n",
    "\n",
    "else:\n",
    "    print(\"Todos son iguales:\", False)\n"
   ]
  },
  {
   "cell_type": "markdown",
   "metadata": {
    "id": "UrcaNGWa1MtL"
   },
   "source": [
    "![ejercicio.png](./img/ejercicio.png)\n",
    "\n",
    "## Ejercicio 4\n",
    "Razona sin ejecutar código el output que obtendremos de las siguientes sentencias\n",
    "1. True and True and False\n",
    "2. not ((True or False) and (True or False))\n",
    "3. (False or False or False or True) and False\n",
    "4. not False and True and not True"
   ]
  },
  {
   "cell_type": "markdown",
   "metadata": {
    "id": "dIKeSZ8w1MtL"
   },
   "source": [
    "1. False\n",
    "2. False\n",
    "3. False\n",
    "4. False"
   ]
  }
 ],
 "metadata": {
  "colab": {
   "provenance": []
  },
  "kernelspec": {
   "display_name": "Python 3 (ipykernel)",
   "language": "python",
   "name": "python3"
  },
  "language_info": {
   "codemirror_mode": {
    "name": "ipython",
    "version": 3
   },
   "file_extension": ".py",
   "mimetype": "text/x-python",
   "name": "python",
   "nbconvert_exporter": "python",
   "pygments_lexer": "ipython3",
   "version": "3.13.1"
  }
 },
 "nbformat": 4,
 "nbformat_minor": 4
}
