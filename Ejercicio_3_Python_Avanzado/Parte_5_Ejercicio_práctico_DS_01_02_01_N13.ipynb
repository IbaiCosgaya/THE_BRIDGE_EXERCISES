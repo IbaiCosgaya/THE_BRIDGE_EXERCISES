{
 "cells": [
  {
   "cell_type": "markdown",
   "metadata": {
    "id": "AyOlWS2nRWxH"
   },
   "source": [
    "## PRACTICA OBLIGATORIA: COLECCIONES Y FUNCIONES"
   ]
  },
  {
   "cell_type": "markdown",
   "metadata": {
    "id": "6UOgb0KVRWxH"
   },
   "source": [
    "* La práctica obligatoria de esta unidad consiste varios ejercicios de programación libre a completar sobre Colecciones y Funciones. Descarga este notebook en tu ordenador y trabaja en local.  \n",
    "* Recuerda que debes subirla a tu repositorio personal antes de la sesión en vivo para que puntúe adecuadamente y puedas participar en dicha sesión.  \n",
    "* Recuerda también que no es necesario que esté perfecta, sólo es necesario que se vea el esfuerzo.\n",
    "* Esta práctica se resolverá en la sesión en vivo correspondiente y la solución se publicará en el repo del curso."
   ]
  },
  {
   "cell_type": "markdown",
   "metadata": {
    "id": "j3yu-tEjRWxH"
   },
   "source": [
    "### Contenidos"
   ]
  },
  {
   "cell_type": "markdown",
   "metadata": {
    "id": "kO-fLH39RWxH"
   },
   "source": [
    "## Ejercicio 1\n",
    "Eleva todos los elementos de la lista al cuadrado\n",
    "> ```ejer_2 = [1,2,3,4,5]```"
   ]
  },
  {
   "cell_type": "code",
   "execution_count": null,
   "metadata": {
    "id": "ks5l3yi7RWxH"
   },
   "outputs": [],
   "source": [
    "ejer_2 = [1,2,3,4,5]\n",
    "result = []\n",
    "for x in ejer_2:\n",
    "    x *= x\n",
    "    result.append(x)\n",
    "print(result)"
   ]
  },
  {
   "cell_type": "markdown",
   "metadata": {
    "id": "kI_Xr5oFRWxI"
   },
   "source": [
    "## Ejercicio 2\n",
    "Haz un programa que detecte todos los duplicados de un elemento en una lista:\n",
    "* Utiliza una variable duplicado para asignarle el valor del elemento del que queremos encontrar todos sus duplicados.\n",
    "* El programa debe devolver todos los índices de los elementos duplicados.\n",
    "* Aplícalo para encontrar los duplicados de \"un\", \"es\" y \"binario\" de:  \n",
    "\n",
    ">```ejer_3 = [\"Un\", \"árbol\", \"binario\", \"es\", \"una\", \"estructura\", \"de\", \"un\", \"tipo\", \"particular\", \"a\", \"veces\", \"no\", \"es\", \"ni\", \"binario\"]```\n"
   ]
  },
  {
   "cell_type": "code",
   "execution_count": 1,
   "metadata": {
    "id": "cLY9WB7YRWxI"
   },
   "outputs": [
    {
     "name": "stdin",
     "output_type": "stream",
     "text": [
      "Escribe las palabras a buscar en minuscula, separadas por una coma:  es, un, binario\n"
     ]
    },
    {
     "name": "stdout",
     "output_type": "stream",
     "text": [
      "El indice de la palabra 'es' es: [3, 13]\n",
      "El indice de la palabra 'un' es: [0, 7]\n",
      "El indice de la palabra 'binario' es: [2, 15]\n"
     ]
    }
   ],
   "source": [
    "ejer_3 = [\"Un\", \"árbol\", \"binario\", \"es\", \"una\", \"estructura\", \"de\", \"un\", \"tipo\", \"particular\", \"a\", \"veces\", \"no\", \"es\", \"ni\", \"binario\"]\n",
    "ejer_3 = [palabra.lower() for palabra in ejer_3]\n",
    "\n",
    "duplicado = input(\"Escribe las palabras a buscar en minuscula, separadas por una coma: \").split(\",\")\n",
    "duplicado = [palabra.strip() for palabra in duplicado]\n",
    "\n",
    "for palabra in duplicado:\n",
    "    resultado = []\n",
    "    if palabra in ejer_3:\n",
    "        for indice, elemento in enumerate(ejer_3):\n",
    "            if elemento == palabra:\n",
    "                resultado.append(indice)\n",
    "        print(f\"El indice de la palabra '{palabra}' es: {resultado}\")\n",
    "\n",
    "    else:\n",
    "        print(f\"La palabra '{palabra}' no está en la lista\")"
   ]
  },
  {
   "cell_type": "markdown",
   "metadata": {
    "id": "3WrBd5QaRWxI"
   },
   "source": [
    "## Ejercicio 3\n",
    "1. ¿Cuántas veces se repite el 3 en la siguiente tupla?\n",
    "2. Crea una tupla nueva con los elementos desde la posicion 5 a la 10.\n",
    "3. ¿Cuántos elementos tiene la tupla `ejer_3`?\n",
    "> ```ejer_9 = (3, 20, 3, 47, 19, 3, 29, 45, 67, 78, 90, 3, 3, 5, 2, 4, 7, 9, 4, 2, 4, 3, 3, 4, 6, 7)```"
   ]
  },
  {
   "cell_type": "code",
   "execution_count": null,
   "metadata": {
    "id": "bkv_R5LYRWxI"
   },
   "outputs": [],
   "source": [
    "ejer_9 = (3, 20, 3, 47, 19, 3, 29, 45, 67, 78, 90, 3, 3, 5, 2, 4, 7, 9, 4, 2, 4, 3, 3, 4, 6, 7)\n",
    "repeticion = 3\n",
    "counter = 0\n",
    "\n",
    "for x in ejer_9:\n",
    "    if x == repeticion:\n",
    "        counter += 1\n",
    "\n",
    "nueva_tupla = ejer_9[5:11]\n",
    "\n",
    "print(f\"El numero {repeticion} se repite {counter} veces\")\n",
    "print(f\"La tupla tiene {len(ejer_9)} elementos\")\n",
    "print(nueva_tupla)"
   ]
  },
  {
   "cell_type": "markdown",
   "metadata": {
    "id": "6g8Y54AeRWxI"
   },
   "source": [
    "## Ejercicio 4\n",
    "Comprueba si el numero 60 esta en la tupla del ejercicio 3"
   ]
  },
  {
   "cell_type": "code",
   "execution_count": 4,
   "metadata": {
    "id": "F8VTEZonRWxI"
   },
   "outputs": [
    {
     "name": "stdout",
     "output_type": "stream",
     "text": [
      "El numero 60 no se encuentra en la tupla\n"
     ]
    }
   ],
   "source": [
    "ejer_9 = (3, 20, 3, 47, 19, 3, 29, 45, 67, 78, 90, 3, 3, 5, 2, 4, 7, 9, 4, 2, 4, 3, 3, 4, 6, 7)\n",
    "repeticion = 60\n",
    "counter = 0\n",
    "\n",
    "if repeticion in ejer_9:\n",
    "    for x in ejer_9:\n",
    "        if x == repeticion:\n",
    "            counter += 1\n",
    "    print(f\"El numero {repeticion} se repite {counter} veces\")\n",
    "    \n",
    "elif repeticion not in ejer_9:\n",
    "    print(f\"El numero {repeticion} no se encuentra en la tupla\")"
   ]
  },
  {
   "cell_type": "markdown",
   "metadata": {
    "id": "y0fg-ZA6RWxI"
   },
   "source": [
    "## Ejercicio 5\n",
    "1. Convierte la tupla del ejercicio 3 en una lista\n",
    "2. Convierte la tupla del ejercicio 3 en un set\n",
    "3. Convierte la tupla del ejercicio 3 en un diccionario. Usa también los indices"
   ]
  },
  {
   "cell_type": "code",
   "execution_count": 5,
   "metadata": {
    "id": "_O5hXr01RWxI"
   },
   "outputs": [
    {
     "name": "stdout",
     "output_type": "stream",
     "text": [
      "<class 'list'>\n",
      "<class 'set'>\n",
      "{0: 3, 1: 20, 2: 3, 3: 47, 4: 19, 5: 3, 6: 29, 7: 45, 8: 67, 9: 78, 10: 90, 11: 3, 12: 3, 13: 5, 14: 2, 15: 4, 16: 7, 17: 9, 18: 4, 19: 2, 20: 4, 21: 3, 22: 3, 23: 4, 24: 6, 25: 7}\n",
      "<class 'dict'>\n"
     ]
    }
   ],
   "source": [
    "ejer_9 = (3, 20, 3, 47, 19, 3, 29, 45, 67, 78, 90, 3, 3, 5, 2, 4, 7, 9, 4, 2, 4, 3, 3, 4, 6, 7)\n",
    "\n",
    "convert_1 = list(ejer_9)\n",
    "print(type(convert_1))\n",
    "\n",
    "convert_2 = set(ejer_9)\n",
    "print(type(convert_2))\n",
    "\n",
    "convert_3 = {}\n",
    "for indice, elemento in enumerate(ejer_9):\n",
    "    convert_3[indice] = elemento\n",
    "\n",
    "print(convert_3)\n",
    "print(type(convert_3))"
   ]
  },
  {
   "cell_type": "markdown",
   "metadata": {
    "id": "eOdWWbxvRWxJ"
   },
   "source": [
    "## Ejercicio 6\n",
    "Multiplica todos los valores del diccionario\n",
    "> ```ejer_6 = {1: 11, 2: 22, 3: 33, 4: 44, 5: 55}```"
   ]
  },
  {
   "cell_type": "code",
   "execution_count": 6,
   "metadata": {
    "id": "KcuByovKRWxJ"
   },
   "outputs": [
    {
     "name": "stdout",
     "output_type": "stream",
     "text": [
      "19326120\n"
     ]
    }
   ],
   "source": [
    "ejer_6 = {1: 11, 2: 22, 3: 33, 4: 44, 5: 55}\n",
    "resultado = 1\n",
    "for values in ejer_6.values():\n",
    "    resultado *= values\n",
    "print(resultado)"
   ]
  },
  {
   "cell_type": "markdown",
   "metadata": {
    "id": "W7TUSaKRRWxJ"
   },
   "source": [
    "## Ejercicio 7\n",
    "\n",
    "1. Crea un diccionario que describa un libro, con los siguientes campos o claves: \"titulo\",\"autor\",\"idioma original\",\"año de publicación\".\n",
    "2. Crea un a lista, llamada librería.\n",
    "3. Añade cuatro libros a tu elección a la librería."
   ]
  },
  {
   "cell_type": "code",
   "execution_count": null,
   "metadata": {
    "id": "d-IMRvxRRWxJ",
    "vscode": {
     "languageId": "plaintext"
    }
   },
   "outputs": [],
   "source": [
    "libro1 = {\"Titulo\": \"El amor en los tiempos del cólera\", \"Autor\": \"Gabriel García Márquez\", \"Idioma original\": \"Castellano\", \"Año de publicación\": 1985}\n",
    "libro2 = {\"Titulo\": \"La tregua\", \"Autor\": \"Mario Benedetti\", \"Idioma original\": \"Español\", \"Año de publicación\": 1960}\n",
    "libro3 = {\"Titulo\": \"El guardián entre el centeno\", \"Autor\": \"J.D. Salinger\", \"Idioma original\": \"Inglés\", \"Año de publicación\": 1951}\n",
    "libro4 = {\"Titulo\": \"Baudolino\", \"Autor\": \"Umberto Eco\", \"Idioma original\": \"Italiano\", \"Año de publicación\": 2000}\n",
    "\n",
    "libreria = [libro1, libro2, libro3, libro4]\n"
   ]
  },
  {
   "cell_type": "markdown",
   "metadata": {
    "id": "glMoedjYRWxJ"
   },
   "source": [
    "## Ejercicio 8\n",
    "Modifica los valores del idioma de todos los libros del ejercicio anterior para que sea \"esperanto\"\n"
   ]
  },
  {
   "cell_type": "code",
   "execution_count": null,
   "metadata": {
    "id": "veNdC-uwRWxJ"
   },
   "outputs": [],
   "source": [
    "libro1 = {\"Titulo\": \"El amor en los tiempos del cólera\", \"Autor\": \"Gabriel García Márquez\", \"Idioma original\": \"Castellano\", \"Año de publicación\": 1985}\n",
    "libro2 = {\"Titulo\": \"La tregua\", \"Autor\": \"Mario Benedetti\", \"Idioma original\": \"Español\", \"Año de publicación\": 1960}\n",
    "libro3 = {\"Titulo\": \"El guardián entre el centeno\", \"Autor\": \"J.D. Salinger\", \"Idioma original\": \"Inglés\", \"Año de publicación\": 1951}\n",
    "libro4 = {\"Titulo\": \"Baudolino\", \"Autor\": \"Umberto Eco\", \"Idioma original\": \"Italiano\", \"Año de publicación\": 2000}\n",
    "\n",
    "libreria = [libro1, libro2, libro3, libro4]\n",
    "\n",
    "for libro in libreria:\n",
    "    libro[\"Idioma original\"] = \"Esperanto\"\n",
    "\n",
    "for libro in libreria:\n",
    "    print(libro)"
   ]
  },
  {
   "cell_type": "markdown",
   "metadata": {
    "id": "DRCJG04KRWxJ"
   },
   "source": [
    "## Ejercicio 9\n",
    "1. Escribe un programa que dada una variable titulo busque los libros que hay en la librería con ese título. Si no se encuentra debe devolver el mensaje `Ese no lo tengo, ¿mola?`\n",
    "2. Pruena que el programa con uno de tus libros y con otro que no contenga tu librería."
   ]
  },
  {
   "cell_type": "code",
   "execution_count": 8,
   "metadata": {
    "id": "eWHdJi9BRWxJ"
   },
   "outputs": [
    {
     "name": "stdin",
     "output_type": "stream",
     "text": [
      "Esribe el titulo a buscar:  BAUDOLINO\n"
     ]
    },
    {
     "name": "stdout",
     "output_type": "stream",
     "text": [
      "El libro 'Baudolino' está disponible\n"
     ]
    }
   ],
   "source": [
    "libro1 = {\"Titulo\": \"El amor en los tiempos del cólera\", \"Autor\": \"Gabriel García Márquez\", \"Idioma original\": \"Castellano\", \"Año de publicación\": 1985}\n",
    "libro2 = {\"Titulo\": \"La tregua\", \"Autor\": \"Mario Benedetti\", \"Idioma original\": \"Español\", \"Año de publicación\": 1960}\n",
    "libro3 = {\"Titulo\": \"El guardián entre el centeno\", \"Autor\": \"J.D. Salinger\", \"Idioma original\": \"Inglés\", \"Año de publicación\": 1951}\n",
    "libro4 = {\"Titulo\": \"Baudolino\", \"Autor\": \"Umberto Eco\", \"Idioma original\": \"Italiano\", \"Año de publicación\": 2000}\n",
    "\n",
    "libreria = [libro1, libro2, libro3, libro4]\n",
    "\n",
    "for libro in libreria:\n",
    "    libro[\"Idioma original\"] = \"Esperanto\"\n",
    "\n",
    "buscar = input(\"Esribe el titulo a buscar: \")\n",
    "encontrado = False\n",
    "\n",
    "for libro in libreria:\n",
    "    if buscar.lower() in libro[\"Titulo\"].lower():\n",
    "        print(f\"El libro '{buscar.lower().capitalize()}' está disponible\")\n",
    "        encontrado = True\n",
    "        break\n",
    "    else:\n",
    "        encontrado = False\n",
    "\n",
    "if not encontrado:\n",
    "    print(\"Ese no lo tengo, ¿mola?\")"
   ]
  },
  {
   "cell_type": "markdown",
   "metadata": {
    "id": "17YOpYuFRWxJ"
   },
   "source": [
    "## Ejercicio 10\n",
    "Convierte el programa del ejercicio 2 en una función al que se le pase el valor a buscar como un argumento posicional"
   ]
  },
  {
   "cell_type": "code",
   "execution_count": null,
   "metadata": {
    "id": "xbj0LgvnRWxJ"
   },
   "outputs": [],
   "source": [
    "def buscar_duplicados(ejer_3, duplicado):\n",
    "\n",
    "    ejer_3 = [palabra.lower() for palabra in ejer_3]\n",
    "    duplicado = duplicado.split(\",\")\n",
    "    duplicado = [palabra.strip() for palabra in duplicado]\n",
    "\n",
    "    for palabra in duplicado:\n",
    "        resultado = []\n",
    "        if palabra in ejer_3:\n",
    "            for indice, elemento in enumerate(ejer_3):\n",
    "                if elemento == palabra:\n",
    "                    resultado.append(indice)\n",
    "            print(f\"El indice de la palabra '{palabra}' es: {resultado}\")\n",
    "\n",
    "        else:\n",
    "            print(f\"La palabra '{palabra}' no está en la lista\")\n",
    "\n",
    "buscar_duplicados([\"Un\", \"árbol\", \"binario\", \"es\", \"una\", \"estructura\", \"de\", \"un\", \"tipo\", \"particular\", \"a\", \"veces\", \"no\", \"es\", \"ni\", \"binario\"], \"es\")"
   ]
  },
  {
   "cell_type": "markdown",
   "metadata": {
    "id": "xZ-sWJxPRWxJ"
   },
   "source": [
    "## Ejercicio 11\n",
    "Convierte el programa del ejercicio 9 en una función al que se le pasen como argumentos la librería, posicional, y el título, argumento keyword con valor \"ninguno\", por defecto."
   ]
  },
  {
   "cell_type": "code",
   "execution_count": 2,
   "metadata": {
    "id": "4-JrsMdNRWxK"
   },
   "outputs": [
    {
     "name": "stdout",
     "output_type": "stream",
     "text": [
      "El libro 'Baudolino' está disponible\n"
     ]
    }
   ],
   "source": [
    "libro1 = {\"Titulo\": \"El amor en los tiempos del cólera\", \"Autor\": \"Gabriel García Márquez\", \"Idioma original\": \"Castellano\", \"Año de publicación\": 1985}\n",
    "libro2 = {\"Titulo\": \"La tregua\", \"Autor\": \"Mario Benedetti\", \"Idioma original\": \"Español\", \"Año de publicación\": 1960}\n",
    "libro3 = {\"Titulo\": \"El guardián entre el centeno\", \"Autor\": \"J.D. Salinger\", \"Idioma original\": \"Inglés\", \"Año de publicación\": 1951}\n",
    "libro4 = {\"Titulo\": \"Baudolino\", \"Autor\": \"Umberto Eco\", \"Idioma original\": \"Italiano\", \"Año de publicación\": 2000}\n",
    "\n",
    "libreria = [libro1, libro2, libro3, libro4]\n",
    "\n",
    "def libreria_virtual(libreria, titulo=\"ninguno\"):\n",
    "    encontrado = False\n",
    "    for libro in libreria:\n",
    "        if titulo.lower() == \"ninguno\":\n",
    "            encontrado = False\n",
    "            print(libro)\n",
    "        elif titulo.lower() in libro[\"Titulo\"].lower():\n",
    "            encontrado = True\n",
    "            break\n",
    "        else:\n",
    "            encontrado = False\n",
    "\n",
    "    if encontrado:\n",
    "        print(f\"El libro '{titulo.lower().capitalize()}' está disponible\")\n",
    "    elif not encontrado and titulo.lower() == \"ninguno\":\n",
    "        print(\"\")\n",
    "    elif not encontrado:\n",
    "        print(f\"El libro '{titulo.lower().capitalize()}' no está disponible\")\n",
    "\n",
    "libreria_virtual(libreria, \"baudolino\")"
   ]
  },
  {
   "cell_type": "markdown",
   "metadata": {
    "id": "FtJir95QRWxK"
   },
   "source": [
    "## Ejercicio 12\n",
    "Solicitar al usuario que ingrese su dirección email. Imprimir un mensaje indicando si la dirección es válida o no, valiéndose de una función para decidirlo. Una dirección se considerará válida si contiene el símbolo \"@\"."
   ]
  },
  {
   "cell_type": "code",
   "execution_count": 3,
   "metadata": {
    "id": "sk852IZ8RWxK"
   },
   "outputs": [
    {
     "name": "stdout",
     "output_type": "stream",
     "text": [
      "Dirección de gmail válida\n"
     ]
    }
   ],
   "source": [
    "def gmail_check(direccion):\n",
    "    status = False\n",
    "    for letras in direccion:\n",
    "        if \"@\" in letras:\n",
    "            status = True\n",
    "            break\n",
    "        else:\n",
    "            status = False\n",
    "\n",
    "    if status:\n",
    "        print(\"Dirección de gmail válida\")\n",
    "    if not status:\n",
    "        print(\"Dirección de gmail no válida\")\n",
    "\n",
    "gmail_check(\"ibaicosgayaprieto@gmail.com\")"
   ]
  },
  {
   "cell_type": "markdown",
   "metadata": {
    "id": "Kw1MWBwBRWxK"
   },
   "source": [
    "## Ejercicio 13\n",
    "Escribe una función que compruebe si un DNI es válido, devolviendo `True` en caso afirmativo.  \n",
    "En primer lugar, el DNI debe tener entre 7 y 8 dígitos numéricos.  \n",
    "Para saber si la letra del DNI es correcta puedes utilizar el siguiente fragmento de código:\n",
    ">```Python\n",
    ">DNI= 55555555\n",
    ">palabra='TRWAGMYFPDXBNJZSQVHLCKE'\n",
    ">print('La letra del DNI es: ', palabra[DNI%23])\n",
    ">````\n"
   ]
  },
  {
   "cell_type": "code",
   "execution_count": null,
   "metadata": {
    "id": "F5Z9rSHqRWxK"
   },
   "outputs": [],
   "source": [
    "def dni_check(numero, letra):\n",
    "\n",
    "    letra_check = \"TRWAGMYFPDXBNJZSQVHLCKE\"\n",
    "    if 7 <= len(numero) <= 8 and letra.isalpha():\n",
    "        dni_num = int(numero)\n",
    "        result = dni_num%23\n",
    "        palabra_check = letra_check[result]\n",
    "        if letra.upper() == palabra_check:\n",
    "            return True\n",
    "        else:\n",
    "            return False\n",
    "    else:\n",
    "        return False\n",
    "\n",
    "print(dni_check(\"22762645\", \"m\"))"
   ]
  }
 ],
 "metadata": {
  "colab": {
   "provenance": []
  },
  "kernelspec": {
   "display_name": "Python 3 (ipykernel)",
   "language": "python",
   "name": "python3"
  },
  "language_info": {
   "codemirror_mode": {
    "name": "ipython",
    "version": 3
   },
   "file_extension": ".py",
   "mimetype": "text/x-python",
   "name": "python",
   "nbconvert_exporter": "python",
   "pygments_lexer": "ipython3",
   "version": "3.13.1"
  }
 },
 "nbformat": 4,
 "nbformat_minor": 4
}
